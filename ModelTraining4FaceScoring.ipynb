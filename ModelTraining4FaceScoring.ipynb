{
  "cells": [
    {
      "cell_type": "markdown",
      "metadata": {
        "id": "view-in-github",
        "colab_type": "text"
      },
      "source": [
        "<a href=\"https://colab.research.google.com/github/TCC0226/X_ray-detection/blob/main/ModelTraining4FaceScoring.ipynb\" target=\"_parent\"><img src=\"https://colab.research.google.com/assets/colab-badge.svg\" alt=\"Open In Colab\"/></a>"
      ]
    },
    {
      "cell_type": "markdown",
      "metadata": {
        "id": "LWiF8NjIPpAV"
      },
      "source": [
        "##Preprocessing"
      ]
    },
    {
      "cell_type": "code",
      "execution_count": null,
      "metadata": {
        "colab": {
          "base_uri": "https://localhost:8080/",
          "height": 17
        },
        "id": "KAJAEVerCys-",
        "outputId": "e5fa64b0-b8e7-455d-ad25-74775289dd40"
      },
      "outputs": [
        {
          "output_type": "display_data",
          "data": {
            "text/plain": [
              "<IPython.core.display.Javascript object>"
            ],
            "application/javascript": [
              "function ClickConnect(){\n",
              "    console.log(\"Working\");\n",
              "    document\n",
              "        .querySelector(\"#top-toolbar > colab-connect-button\")\n",
              "        .shadowRoot\n",
              "        .querySelector(\"#connect\")\n",
              "        .click()\n",
              "}\n",
              "\n",
              "setInterval(ClickConnect,60000)\n"
            ]
          },
          "metadata": {}
        }
      ],
      "source": [
        "#Interruption Preventing\n",
        "%%javascript\n",
        "function ClickConnect(){\n",
        "    console.log(\"Working\");\n",
        "    document\n",
        "        .querySelector(\"#top-toolbar > colab-connect-button\")\n",
        "        .shadowRoot\n",
        "        .querySelector(\"#connect\")\n",
        "        .click()\n",
        "}\n",
        "\n",
        "setInterval(ClickConnect,60000)"
      ]
    },
    {
      "cell_type": "code",
      "execution_count": null,
      "metadata": {
        "colab": {
          "base_uri": "https://localhost:8080/"
        },
        "id": "Fvt0LZB-5Zwk",
        "outputId": "665984f0-2f0d-4a3d-d230-ad0d6b43a3ae"
      },
      "outputs": [
        {
          "output_type": "stream",
          "name": "stdout",
          "text": [
            "Looking in indexes: https://pypi.org/simple, https://us-python.pkg.dev/colab-wheels/public/simple/\n",
            "Requirement already satisfied: gspread in /usr/local/lib/python3.8/dist-packages (3.4.2)\n",
            "Requirement already satisfied: requests>=2.2.1 in /usr/local/lib/python3.8/dist-packages (from gspread) (2.25.1)\n",
            "Requirement already satisfied: google-auth in /usr/local/lib/python3.8/dist-packages (from gspread) (2.15.0)\n",
            "Requirement already satisfied: idna<3,>=2.5 in /usr/local/lib/python3.8/dist-packages (from requests>=2.2.1->gspread) (2.10)\n",
            "Requirement already satisfied: chardet<5,>=3.0.2 in /usr/local/lib/python3.8/dist-packages (from requests>=2.2.1->gspread) (4.0.0)\n",
            "Requirement already satisfied: certifi>=2017.4.17 in /usr/local/lib/python3.8/dist-packages (from requests>=2.2.1->gspread) (2022.12.7)\n",
            "Requirement already satisfied: urllib3<1.27,>=1.21.1 in /usr/local/lib/python3.8/dist-packages (from requests>=2.2.1->gspread) (1.24.3)\n",
            "Requirement already satisfied: rsa<5,>=3.1.4 in /usr/local/lib/python3.8/dist-packages (from google-auth->gspread) (4.9)\n",
            "Requirement already satisfied: cachetools<6.0,>=2.0.0 in /usr/local/lib/python3.8/dist-packages (from google-auth->gspread) (5.2.1)\n",
            "Requirement already satisfied: six>=1.9.0 in /usr/local/lib/python3.8/dist-packages (from google-auth->gspread) (1.15.0)\n",
            "Requirement already satisfied: pyasn1-modules>=0.2.1 in /usr/local/lib/python3.8/dist-packages (from google-auth->gspread) (0.2.8)\n",
            "Requirement already satisfied: pyasn1<0.5.0,>=0.4.6 in /usr/local/lib/python3.8/dist-packages (from pyasn1-modules>=0.2.1->google-auth->gspread) (0.4.8)\n",
            "Looking in indexes: https://pypi.org/simple, https://us-python.pkg.dev/colab-wheels/public/simple/\n",
            "Requirement already satisfied: oauth2client in /usr/local/lib/python3.8/dist-packages (4.1.3)\n",
            "Requirement already satisfied: pyasn1>=0.1.7 in /usr/local/lib/python3.8/dist-packages (from oauth2client) (0.4.8)\n",
            "Requirement already satisfied: pyasn1-modules>=0.0.5 in /usr/local/lib/python3.8/dist-packages (from oauth2client) (0.2.8)\n",
            "Requirement already satisfied: httplib2>=0.9.1 in /usr/local/lib/python3.8/dist-packages (from oauth2client) (0.17.4)\n",
            "Requirement already satisfied: six>=1.6.1 in /usr/local/lib/python3.8/dist-packages (from oauth2client) (1.15.0)\n",
            "Requirement already satisfied: rsa>=3.1.4 in /usr/local/lib/python3.8/dist-packages (from oauth2client) (4.9)\n"
          ]
        }
      ],
      "source": [
        "#Installations\n",
        "!pip install gspread \n",
        "!pip install oauth2client"
      ]
    },
    {
      "cell_type": "code",
      "execution_count": null,
      "metadata": {
        "id": "6i1LDBT1PDdf"
      },
      "outputs": [],
      "source": [
        "#Imports\n",
        "import os\n",
        "import random\n",
        "import requests\n",
        "import numpy as np\n",
        "import matplotlib.pyplot as plt\n",
        "import tensorflow as tf\n",
        "import itertools\n",
        "import gspread\n",
        "import time\n",
        "from glob import glob\n",
        "from statistics import mean\n",
        "from tensorflow import keras\n",
        "from tensorflow.keras import layers, optimizers\n",
        "from tensorflow.keras.metrics import Recall, Precision\n",
        "from tensorflow.keras.preprocessing.image import ImageDataGenerator\n",
        "from tensorflow.keras.models import Sequential, load_model\n",
        "from tensorflow.keras.layers import Activation, Dropout, Dense, Flatten, BatchNormalization, Conv2D, MaxPool2D\n",
        "from tensorflow.keras import backend as K\n",
        "from sklearn.metrics import classification_report, f1_score, confusion_matrix\n",
        "from oauth2client.service_account import ServiceAccountCredentials as SAC\n",
        "from matplotlib.ticker import PercentFormatter\n",
        "from tensorflow.keras.callbacks import Callback"
      ]
    },
    {
      "cell_type": "code",
      "execution_count": null,
      "metadata": {
        "colab": {
          "base_uri": "https://localhost:8080/"
        },
        "id": "yWfdsNI5R-YK",
        "outputId": "20b54411-f108-4e0e-e893-c2772f4e511a"
      },
      "outputs": [
        {
          "output_type": "stream",
          "name": "stdout",
          "text": [
            "Mounted at /content/drive\n"
          ]
        }
      ],
      "source": [
        "#LINK TO GOOGLE DRIVE\n",
        "from google.colab import drive, files\n",
        "drive.mount('/content/drive')"
      ]
    },
    {
      "cell_type": "code",
      "execution_count": null,
      "metadata": {
        "id": "ZKP0EoNn5b1p"
      },
      "outputs": [],
      "source": [
        "#Get Google Sheets API Authorization\n",
        "scopes = [\"https://spreadsheets.google.com/feeds\"]\n",
        "credentials = SAC.from_json_keyfile_name(\"/content/drive/MyDrive/[Kaggle]ChestX-RayImages_Pneumonia/kaggle-pneumonia3_API_key.json\", scopes) #金鑰位置\n",
        "client = gspread.authorize(credentials)\n",
        "sheet = client.open_by_key('(Replace with Google sheet id)') #Google Sheet 網址中最長的那段亂碼\n",
        "sheet = sheet.worksheet('BUN') #分頁名稱"
      ]
    },
    {
      "cell_type": "markdown",
      "metadata": {
        "id": "a4oU_LemP6lr"
      },
      "source": [
        "##Functions"
      ]
    },
    {
      "cell_type": "code",
      "execution_count": null,
      "metadata": {
        "id": "EeXBhTQaof0n"
      },
      "outputs": [],
      "source": [
        "#Callback Function to Change monitor\n",
        "class ChangeMonitor(Callback):\n",
        "    def __init__(self, target, changee):\n",
        "        self.target = target\n",
        "        self.changee = changee\n",
        "\n",
        "    def on_epoch_end(self, epoch, logs=None):\n",
        "      if self.changee == 'recall' and not logs.get(self.changee):\n",
        "        for i in range(1,10):\n",
        "          if logs.get(self.changee + '_' + str(i)):\n",
        "            self.target.monitor = self.changee + '_' + str(i)\n",
        "            print('\"{}\" changes to \"{}\"!'.format(self.changee, self.changee+'_'+str(i)))\n",
        "            break"
      ]
    },
    {
      "cell_type": "code",
      "execution_count": null,
      "metadata": {
        "id": "BMPJ-3khP9rq"
      },
      "outputs": [],
      "source": [
        "#Getting Confusion Matrix\n",
        "def conf_matrix_and_prob(model, data_dir, test_gen, threshold):\n",
        "    predictions =[]\n",
        "    true_y = []\n",
        "    ix = 0\n",
        "    predictprob = np.zeros([test_gen.samples, len(test_gen.class_indices) if len(test_gen.class_indices)>2 else 1])\n",
        "\n",
        "    for x,y in test_gen: \n",
        "      predictprob[ix,:] = model.predict(x)\n",
        "\n",
        "      if len(test_gen.class_indices)>2:\n",
        "        prediction = np.argmax(model.predict(x), axis=1)\n",
        "        y = np.argmax(y, axis =1)\n",
        "        \n",
        "      else:\n",
        "        prediction = [1 if model.predict(x) > threshold else 0]    \n",
        "        \n",
        "      predictions = np.concatenate((predictions, prediction))          \n",
        "      true_y = np.concatenate((true_y, y))\n",
        "      ix+=1\n",
        "      \n",
        "      if len(predictions) >= test_gen.samples:\n",
        "          break\n",
        "\n",
        "    matrix = confusion_matrix(true_y, predictions)\n",
        "\n",
        "    return matrix, predictprob"
      ]
    },
    {
      "cell_type": "code",
      "execution_count": null,
      "metadata": {
        "id": "ElaNx-D-QgWT"
      },
      "outputs": [],
      "source": [
        "#Calculating N-classes Confusion Matrix\n",
        "def calculate_metrics(confusion_matrix):\n",
        "  if len(confusion_matrix)>2:\n",
        "    classes = len(confusion_matrix)\n",
        "    tps = []\n",
        "    fps = []\n",
        "    fns = []\n",
        "    tns = []\n",
        "    \n",
        "    for i in range(classes):\n",
        "      tps.append(confusion_matrix[i][i])\n",
        "      fp = 0\n",
        "      fn = 0\n",
        "      tn = 0\n",
        "      for j in range(classes):\n",
        "        if j != i:\n",
        "          fp += confusion_matrix[j][i]\n",
        "          fn += confusion_matrix[i][j]\n",
        "          for k in range(classes):\n",
        "            if k != i:\n",
        "              tn += confusion_matrix[j][k]\n",
        "      fps.append(fp)\n",
        "      fns.append(fn)\n",
        "      tns.append(tn)\n",
        "\n",
        "    accuracy = []\n",
        "    recall = []\n",
        "    precision = []\n",
        "    f1_score = []\n",
        "    \n",
        "    for i in range(classes):\n",
        "      tp = tps[i]\n",
        "      fp = fps[i]\n",
        "      fn = fns[i]\n",
        "      tn = tns[i]\n",
        "      acc = (tp + tn) / (tp + fn + fp + tn)\n",
        "      rec = tp / (tp + fn)\n",
        "      pre = tp / (tp + fp)\n",
        "      f1 = 2 * pre * rec / (pre + rec)\n",
        "      accuracy.append(acc)\n",
        "      recall.append(rec)\n",
        "      precision.append(pre)\n",
        "      f1_score.append(f1)\n",
        "  \n",
        "  else:\n",
        "    tp = confusion_matrix[1][1]\n",
        "    fn = confusion_matrix[1][0] \n",
        "    fp = confusion_matrix[0][1] \n",
        "    tn = confusion_matrix[0][0] \n",
        "\n",
        "    accuracy = (tp + tn) / (tp + fn + fp + tn)\n",
        "    recall = tp / (tp + fn)\n",
        "    precision = tp / (tp + fp)\n",
        "    f1_score = 2 * precision * recall / (precision + recall)\n",
        "  \n",
        "  return accuracy, recall, precision, f1_score"
      ]
    },
    {
      "cell_type": "code",
      "execution_count": null,
      "metadata": {
        "id": "GcyfDulHQinq"
      },
      "outputs": [],
      "source": [
        "#Ploting Confusion Matrix\n",
        "def PlotConfusionMatrix(cm, classes, normalize = False, title = 'Confusion matrix', cmap = plt.cm.Blues):\n",
        "   \n",
        "    #Normalization can be applied by setting `normalize = True`\n",
        "    if normalize:\n",
        "        cm = cm.astype('float') / cm.sum(axis=1)[:, np.newaxis]\n",
        "        print(\"Normalized confusion matrix\")\n",
        "    else:\n",
        "        print('Confusion matrix, without normalization')\n",
        "\n",
        "    #print(cm)\n",
        "    acc, rec, pre, f1_s = calculate_metrics(cm)\n",
        "    if len(classes) == 2:\n",
        "      print(f'Accuracy: {acc:.3f}\\nRecall: {rec:.3f}\\nPrecision: {pre:.3f}\\nF1 score: {f1_s:.3f}')\n",
        "    else:\n",
        "      print(f'Accuracy: {mean(acc):.3f}\\nRecall: {mean(rec):.3f}\\nPrecision: {mean(pre):.3f}\\nF1 score: {mean(f1_s):.3f}')\n",
        "\n",
        "    plt.imshow(cm, interpolation='nearest', cmap=cmap)\n",
        "    plt.title(title)\n",
        "    plt.colorbar()\n",
        "    tick_marks = np.arange(len(classes))\n",
        "    plt.xticks(tick_marks, classes, rotation = 45)\n",
        "    plt.yticks(tick_marks, classes)\n",
        "\n",
        "    fmt = '.2f' if normalize else 'd'\n",
        "    thresh = cm.max() / 2.\n",
        "    for i, j in itertools.product(range(cm.shape[0]), range(cm.shape[1])):\n",
        "        plt.text(j, i, format(cm[i, j], fmt),\n",
        "                 horizontalalignment=\"center\",\n",
        "                 color=\"white\" if cm[i, j] > thresh else \"black\")\n",
        "\n",
        "    plt.tight_layout()\n",
        "    plt.ylabel('True label')\n",
        "    plt.xlabel('Predicted label')\n",
        "    plt.show()"
      ]
    },
    {
      "cell_type": "code",
      "execution_count": null,
      "metadata": {
        "id": "gNm7vcEPQmQ6"
      },
      "outputs": [],
      "source": [
        "#LINE Notify\n",
        "def LineNotify(token,MSG):\n",
        "    #HTTP 標頭參數與資料\n",
        "    HEADERS = {\"Authorization\": \"Bearer \" + token} #token = API token of LINE Notify\n",
        "    DATA = {'message': '\\n' + MSG}  # 要發送的訊息\n",
        "    #以 requests 發送 POST 請求\n",
        "    requests.post(\"https://notify-api.line.me/api/notify\", headers = HEADERS, data = DATA)"
      ]
    },
    {
      "cell_type": "code",
      "source": [
        "#Converting sec to hr/min/sec\n",
        "def time_convertion_string(s):\n",
        "  string = ''\n",
        "  if s//3600:\n",
        "    string += f'{s//3600:2.0f} hr '\n",
        "    s%=3600\n",
        "  if s//60:\n",
        "    string += f'{s//60:2.0f} min '\n",
        "    s%=60\n",
        "  string += f'{s:2.0f} sec'\n",
        "  return string\n",
        "\n",
        "time_convertion_string(12345.6789)"
      ],
      "metadata": {
        "id": "M8MRwuG0RA6C",
        "colab": {
          "base_uri": "https://localhost:8080/",
          "height": 36
        },
        "outputId": "3dcbdc4e-cdad-41fe-9f5d-97fff3a28370"
      },
      "execution_count": null,
      "outputs": [
        {
          "output_type": "execute_result",
          "data": {
            "text/plain": [
              "' 3 hr 25 min 46 sec'"
            ],
            "application/vnd.google.colaboratory.intrinsic+json": {
              "type": "string"
            }
          },
          "metadata": {},
          "execution_count": 11
        }
      ]
    },
    {
      "cell_type": "markdown",
      "metadata": {
        "id": "5bsRFZmr4NEe"
      },
      "source": [
        "##Model Setting"
      ]
    },
    {
      "cell_type": "code",
      "execution_count": null,
      "metadata": {
        "id": "tRW875eb4U20"
      },
      "outputs": [],
      "source": [
        "#Variables Setting\n",
        "model_characteristic = 'BUN' #【VERY IMPORTANT】BUN\n",
        "classes = 3 if model_characteristic == 'BUN' else 2 \n",
        "tok = '(Replace this string with Ur API token of LINE Notify)' #LINE Notify API token\n",
        "m0del_name = 'Self-build CNN' #Name by yourself!\n",
        "rotation_range = 5\t#±degree\n",
        "width_shift_range\t= .05 #width_shift_range\n",
        "height_shift_range = .05\t#height_shift_range\n",
        "validation_split = .2 #validation_split\n",
        "vertical_flip = False #vertical_flip\n",
        "horizontal_flip = True\n",
        "rlr_factor = .3\t\n",
        "rlr_min_delta\t= 1e-4 \n",
        "es_min_delta = 1e-4\n",
        "epoch = 30\n",
        "batch_size = 32\n",
        "input_shape1 = 128 #target_size[0]\n",
        "rlr_monitor = 'val_loss' \n",
        "es_monitor = 'loss'\n",
        "mckp_monitor = 'recall'\n",
        "zoom_range = .2 #zoom_range\n",
        "class_weight = {0 : 1, 1 : 1} \n",
        "tester = '莊孝穎'\n",
        "PS = ''\n",
        "threshold = .5\n",
        "zca_whitening = False\n",
        "preprocessing_function = tf.keras.applications.densenet.preprocess_input"
      ]
    },
    {
      "cell_type": "code",
      "execution_count": null,
      "metadata": {
        "id": "T8e44pEJR-Ry"
      },
      "outputs": [],
      "source": [
        "#Generator Setting\n",
        "generator = ImageDataGenerator(\n",
        "                rescale = 1./255,\n",
        "                validation_split = validation_split, # fraction of validation\n",
        "                zca_whitening = zca_whitening,  # apply ZCA whitening\n",
        "                rotation_range = rotation_range,  # randomly rotate images in the range ±degree (degrees, 0 to 180)\n",
        "                width_shift_range = width_shift_range,  # randomly shift images horizontally (fraction of total width)\n",
        "                height_shift_range = height_shift_range,  # randomly shift images vertically (fraction of total height)\n",
        "                horizontal_flip = horizontal_flip,  # randomly flip images horizontally\n",
        "                vertical_flip = vertical_flip,  # randomly flip images vertically\n",
        "                zoom_range = zoom_range,\n",
        "                preprocessing_function = preprocessing_function\n",
        "                )\n",
        "testgenerator = ImageDataGenerator(rescale = 1./255, preprocessing_function = preprocessing_function)"
      ]
    },
    {
      "cell_type": "code",
      "execution_count": null,
      "metadata": {
        "id": "MTUd0Du7R-Ph"
      },
      "outputs": [],
      "source": [
        "#Directions Setting\n",
        "train_dir = '/content/drive/MyDrive/chest_xray/Cropped_asia_faces/train/F/'\n",
        "tst_dir  = '/content/drive/MyDrive/chest_xray/Cropped_asia_faces/test/F/'"
      ]
    },
    {
      "cell_type": "code",
      "execution_count": null,
      "metadata": {
        "colab": {
          "base_uri": "https://localhost:8080/"
        },
        "id": "sYT8FQTkR-NJ",
        "outputId": "b368410e-db3e-4755-90e5-85f641900cf2"
      },
      "outputs": [
        {
          "output_type": "stream",
          "name": "stdout",
          "text": [
            "Found 1602 images belonging to 3 classes.\n",
            "Found 399 images belonging to 3 classes.\n",
            "Found 209 images belonging to 3 classes.\n",
            "There're 613 pics in /content/drive/MyDrive/chest_xray/Cropped_asia_faces/train/F/beautifulF\n",
            "There're 702 pics in /content/drive/MyDrive/chest_xray/Cropped_asia_faces/train/F/normalF\n",
            "There're 686 pics in /content/drive/MyDrive/chest_xray/Cropped_asia_faces/train/F/uglyF\n"
          ]
        }
      ],
      "source": [
        "#Gens Setting\n",
        "target_size = [input_shape1, input_shape1]\n",
        "train_gen = generator.flow_from_directory(train_dir, \n",
        "                      class_mode = 'binary' if classes == 2 else 'categorical',\n",
        "                      target_size = target_size, \n",
        "                      batch_size = batch_size, \n",
        "                      shuffle = True,\n",
        "                      seed = 101,\n",
        "                      subset = 'training')\n",
        "\n",
        "validation_data = generator.flow_from_directory(train_dir, \n",
        "                          class_mode = 'binary' if classes == 2 else 'categorical',\n",
        "                          target_size = target_size, \n",
        "                          batch_size = batch_size, \n",
        "                          shuffle = True,\n",
        "                          seed = 101,\n",
        "                          subset = 'validation')\n",
        "\n",
        "tst_gen  = testgenerator.flow_from_directory(tst_dir,\n",
        "                        target_size = target_size,                                          \n",
        "                        batch_size = 1,\n",
        "                        shuffle = False,\n",
        "                        class_mode = 'binary' if classes == 2 else 'categorical'\n",
        "                        )\n",
        "\n",
        "for dir in glob(train_dir + '/*'):\n",
        "  print('There\\'re {} pics in {}'.format(len(glob(dir + '/*')), dir))"
      ]
    },
    {
      "cell_type": "code",
      "execution_count": null,
      "metadata": {
        "id": "MWPg23DTR-Kp",
        "colab": {
          "base_uri": "https://localhost:8080/",
          "height": 286
        },
        "outputId": "f9c735ef-4c64-4cfe-eb43-e3a6848b2d05"
      },
      "outputs": [
        {
          "output_type": "execute_result",
          "data": {
            "text/plain": [
              "(128, 128, 3)"
            ]
          },
          "metadata": {},
          "execution_count": 16
        },
        {
          "output_type": "display_data",
          "data": {
            "text/plain": [
              "<Figure size 432x288 with 1 Axes>"
            ],
            "image/png": "[encoded data removed]"
          },
          "metadata": {
            "needs_background": "light"
          }
        }
      ],
      "source": [
        "#Randomly Showing img.\n",
        "all_img = glob(tst_dir + '/*/*')\n",
        "img_path = random.choice(all_img)\n",
        "img = tf.keras.preprocessing.image.load_img(img_path, target_size = target_size)  # 讀取影像將影像resize到網路輸入大小\n",
        "img = tf.keras.preprocessing.image.img_to_array(img) #將影像轉為array\n",
        "plt.imshow(img/255.) \n",
        "img.shape "
      ]
    },
    {
      "cell_type": "code",
      "execution_count": null,
      "metadata": {
        "id": "yqJVQAgLYfvZ",
        "colab": {
          "base_uri": "https://localhost:8080/"
        },
        "outputId": "5dc2de5b-7289-4a87-9245-8d8b456ed396"
      },
      "outputs": [
        {
          "output_type": "execute_result",
          "data": {
            "text/plain": [
              "{'beautifulF': 0, 'normalF': 1, 'uglyF': 2}"
            ]
          },
          "metadata": {},
          "execution_count": 17
        }
      ],
      "source": [
        "#Class & No.\n",
        "train_gen.class_indices"
      ]
    },
    {
      "cell_type": "code",
      "execution_count": null,
      "metadata": {
        "id": "p8W0kFzJR-IR"
      },
      "outputs": [],
      "source": [
        "# #Self-build CNN\n",
        "# model = Sequential()\n",
        "# model.add(Conv2D(32,(3,3),input_shape = img.shape))\n",
        "# model.add(Activation(\"relu\"))\n",
        "# model.add(MaxPool2D(pool_size=(2,2)))\n",
        "\n",
        "# model.add(Conv2D(64,(6,6)))\n",
        "# model.add(Activation(\"relu\"))\n",
        "# model.add(MaxPool2D(pool_size=(2,2)))\n",
        "\n",
        "# model.add(Conv2D(128,(9,9)))\n",
        "# model.add(Activation(\"relu\"))\n",
        "# model.add(MaxPool2D(pool_size=(2,2)))\n",
        "\n",
        "# model.add(Flatten())\n",
        "# model.add(Dense(64))\n",
        "# model.add(Activation(\"relu\"))\n",
        "# model.add(Dropout(0.5))\n",
        "# model.add(Dense(1 if classes == 2 else classes))\n",
        "# model.add(Activation(\"softmax\"))\n",
        "\n",
        "# model.summary()"
      ]
    },
    {
      "cell_type": "code",
      "source": [
        "base_model = tf.keras.applications.DenseNet201(\n",
        "                          include_top=False, \n",
        "                          weights='imagenet', \n",
        "                          pooling='avg', \n",
        "                          input_shape=img.shape\n",
        "                        )\n",
        "model = tf.keras.Sequential([\n",
        "                base_model,\n",
        "                layers.Dense(128, activation='relu'), \n",
        "                layers.Dense(classes, activation='softmax')\n",
        "                ])"
      ],
      "metadata": {
        "colab": {
          "base_uri": "https://localhost:8080/"
        },
        "id": "Aj42fTYXlKj5",
        "outputId": "6a03c43c-2926-4d0c-974b-538e80e10a5a"
      },
      "execution_count": null,
      "outputs": [
        {
          "output_type": "stream",
          "name": "stdout",
          "text": [
            "Downloading data from https://storage.googleapis.com/tensorflow/keras-applications/densenet/densenet201_weights_tf_dim_ordering_tf_kernels_notop.h5\n",
            "74836368/74836368 [==============================] - 5s 0us/step\n"
          ]
        }
      ]
    },
    {
      "cell_type": "code",
      "execution_count": null,
      "metadata": {
        "id": "gzwqjhMuR-Fq"
      },
      "outputs": [],
      "source": [
        "#Model Compiling\n",
        "model.compile(loss= \"categorical_crossentropy\", optimizer=\"adam\", metrics=[\"categorical_crossentropy\", Recall(), Precision()])"
      ]
    },
    {
      "cell_type": "code",
      "execution_count": null,
      "metadata": {
        "id": "3ICjJmghcFVh"
      },
      "outputs": [],
      "source": [
        "#Callbacks Setting\n",
        "model_dir = '/content/drive/MyDrive/[Kaggle]ChestX-RayImages_Pneumonia'\n",
        "rlr = keras.callbacks.ReduceLROnPlateau(monitor = rlr_monitor, factor = rlr_factor, patience=2, verbose=1, min_delta = rlr_min_delta)\n",
        "early_stopping = tf.keras.callbacks.EarlyStopping(\n",
        "                          monitor = es_monitor,\n",
        "                          min_delta = es_min_delta,\n",
        "                          patience = 5,\n",
        "                          )\n",
        "model_mckp = keras.callbacks.ModelCheckpoint(\n",
        "                        os.path.join(model_dir, 'best_model.h5'), \n",
        "                        monitor = mckp_monitor, \n",
        "                        save_best_only = True, \n",
        "                        mode = 'max',\n",
        "                       )\n",
        "callbacks = [rlr, model_mckp, ChangeMonitor(model_mckp, mckp_monitor)]"
      ]
    },
    {
      "cell_type": "markdown",
      "metadata": {
        "id": "E8_7baOHYLS_"
      },
      "source": [
        "##Model Training & Result"
      ]
    },
    {
      "cell_type": "code",
      "execution_count": null,
      "metadata": {
        "id": "t0ukXk8bYOh_",
        "colab": {
          "base_uri": "https://localhost:8080/"
        },
        "outputId": "fa5dd401-e56a-468d-d67b-f1f27573ab3a"
      },
      "outputs": [
        {
          "output_type": "stream",
          "name": "stdout",
          "text": [
            "Epoch 1/30\n",
            "50/50 [==============================] - 1009s 20s/step - loss: 0.9695 - categorical_crossentropy: 0.9695 - recall: 0.3955 - precision: 0.5580 - val_loss: 9.9683 - val_categorical_crossentropy: 9.9683 - val_recall: 0.3542 - val_precision: 0.3542 - lr: 0.0010\n",
            "Epoch 2/30\n",
            "50/50 [==============================] - 21s 428ms/step - loss: 0.7538 - categorical_crossentropy: 0.7538 - recall: 0.5643 - precision: 0.6597 - val_loss: 1.2499 - val_categorical_crossentropy: 1.2499 - val_recall: 0.0365 - val_precision: 0.2545 - lr: 0.0010\n",
            "Epoch 3/30\n",
            "50/50 [==============================] - 22s 434ms/step - loss: 0.7195 - categorical_crossentropy: 0.7195 - recall: 0.6153 - precision: 0.6861 - val_loss: 1.7454 - val_categorical_crossentropy: 1.7454 - val_recall: 0.3073 - val_precision: 0.3073 - lr: 0.0010\n",
            "Epoch 4/30\n",
            "50/50 [==============================] - ETA: 0s - loss: 0.6945 - categorical_crossentropy: 0.6945 - recall: 0.6395 - precision: 0.6967\n",
            "Epoch 4: ReduceLROnPlateau reducing learning rate to 0.0003000000142492354.\n",
            "50/50 [==============================] - 23s 452ms/step - loss: 0.6945 - categorical_crossentropy: 0.6945 - recall: 0.6395 - precision: 0.6967 - val_loss: 3.5958 - val_categorical_crossentropy: 3.5958 - val_recall: 0.3099 - val_precision: 0.3099 - lr: 0.0010\n",
            "Epoch 5/30\n",
            "50/50 [==============================] - 21s 426ms/step - loss: 0.5866 - categorical_crossentropy: 0.5866 - recall: 0.7070 - precision: 0.7380 - val_loss: 4.8310 - val_categorical_crossentropy: 4.8310 - val_recall: 0.3073 - val_precision: 0.3073 - lr: 3.0000e-04\n",
            "Epoch 6/30\n",
            "50/50 [==============================] - ETA: 0s - loss: 0.6071 - categorical_crossentropy: 0.6071 - recall: 0.7045 - precision: 0.7359\n",
            "Epoch 6: ReduceLROnPlateau reducing learning rate to 9.000000427477062e-05.\n",
            "50/50 [==============================] - 16s 310ms/step - loss: 0.6071 - categorical_crossentropy: 0.6071 - recall: 0.7045 - precision: 0.7359 - val_loss: 6.2322 - val_categorical_crossentropy: 6.2322 - val_recall: 0.3073 - val_precision: 0.3073 - lr: 3.0000e-04\n",
            "Epoch 7/30\n",
            "50/50 [==============================] - 21s 428ms/step - loss: 0.5597 - categorical_crossentropy: 0.5597 - recall: 0.7191 - precision: 0.7567 - val_loss: 6.8834 - val_categorical_crossentropy: 6.8834 - val_recall: 0.2995 - val_precision: 0.2995 - lr: 9.0000e-05\n",
            "Epoch 8/30\n",
            "50/50 [==============================] - ETA: 0s - loss: 0.5195 - categorical_crossentropy: 0.5195 - recall: 0.7471 - precision: 0.7677\n",
            "Epoch 8: ReduceLROnPlateau reducing learning rate to 2.700000040931627e-05.\n",
            "50/50 [==============================] - 22s 447ms/step - loss: 0.5195 - categorical_crossentropy: 0.5195 - recall: 0.7471 - precision: 0.7677 - val_loss: 6.4563 - val_categorical_crossentropy: 6.4563 - val_recall: 0.3047 - val_precision: 0.3047 - lr: 9.0000e-05\n",
            "Epoch 9/30\n",
            "50/50 [==============================] - 21s 428ms/step - loss: 0.4825 - categorical_crossentropy: 0.4825 - recall: 0.7828 - precision: 0.8017 - val_loss: 6.2781 - val_categorical_crossentropy: 6.2781 - val_recall: 0.3073 - val_precision: 0.3073 - lr: 2.7000e-05\n",
            "Epoch 10/30\n",
            "50/50 [==============================] - ETA: 0s - loss: 0.4807 - categorical_crossentropy: 0.4807 - recall: 0.7822 - precision: 0.8000\n",
            "Epoch 10: ReduceLROnPlateau reducing learning rate to 8.100000013655517e-06.\n",
            "50/50 [==============================] - 16s 310ms/step - loss: 0.4807 - categorical_crossentropy: 0.4807 - recall: 0.7822 - precision: 0.8000 - val_loss: 6.1931 - val_categorical_crossentropy: 6.1931 - val_recall: 0.3021 - val_precision: 0.3021 - lr: 2.7000e-05\n",
            "Epoch 11/30\n",
            "50/50 [==============================] - 30s 598ms/step - loss: 0.4648 - categorical_crossentropy: 0.4648 - recall: 0.7866 - precision: 0.8014 - val_loss: 6.0086 - val_categorical_crossentropy: 6.0086 - val_recall: 0.3073 - val_precision: 0.3073 - lr: 8.1000e-06\n",
            "Epoch 12/30\n",
            "50/50 [==============================] - ETA: 0s - loss: 0.4748 - categorical_crossentropy: 0.4748 - recall: 0.7898 - precision: 0.8026\n",
            "Epoch 12: ReduceLROnPlateau reducing learning rate to 2.429999949526973e-06.\n",
            "50/50 [==============================] - 26s 528ms/step - loss: 0.4748 - categorical_crossentropy: 0.4748 - recall: 0.7898 - precision: 0.8026 - val_loss: 5.8345 - val_categorical_crossentropy: 5.8345 - val_recall: 0.3021 - val_precision: 0.3021 - lr: 8.1000e-06\n",
            "Epoch 13/30\n",
            "50/50 [==============================] - 17s 331ms/step - loss: 0.4665 - categorical_crossentropy: 0.4665 - recall: 0.7898 - precision: 0.8026 - val_loss: 5.4248 - val_categorical_crossentropy: 5.4248 - val_recall: 0.3047 - val_precision: 0.3047 - lr: 2.4300e-06\n",
            "Epoch 14/30\n",
            "50/50 [==============================] - ETA: 0s - loss: 0.4339 - categorical_crossentropy: 0.4339 - recall: 0.8025 - precision: 0.8161\n",
            "Epoch 14: ReduceLROnPlateau reducing learning rate to 7.289999985005124e-07.\n",
            "50/50 [==============================] - 21s 416ms/step - loss: 0.4339 - categorical_crossentropy: 0.4339 - recall: 0.8025 - precision: 0.8161 - val_loss: 4.7069 - val_categorical_crossentropy: 4.7069 - val_recall: 0.3073 - val_precision: 0.3073 - lr: 2.4300e-06\n",
            "Epoch 15/30\n",
            "50/50 [==============================] - 16s 317ms/step - loss: 0.4560 - categorical_crossentropy: 0.4560 - recall: 0.7866 - precision: 0.8040 - val_loss: 3.4147 - val_categorical_crossentropy: 3.4147 - val_recall: 0.3411 - val_precision: 0.3429 - lr: 7.2900e-07\n",
            "Epoch 16/30\n",
            "50/50 [==============================] - ETA: 0s - loss: 0.4526 - categorical_crossentropy: 0.4526 - recall: 0.7847 - precision: 0.8037\n",
            "Epoch 16: ReduceLROnPlateau reducing learning rate to 2.1870000637136398e-07.\n",
            "50/50 [==============================] - 15s 305ms/step - loss: 0.4526 - categorical_crossentropy: 0.4526 - recall: 0.7847 - precision: 0.8037 - val_loss: 2.1926 - val_categorical_crossentropy: 2.1926 - val_recall: 0.4323 - val_precision: 0.4415 - lr: 7.2900e-07\n",
            "Epoch 17/30\n",
            "50/50 [==============================] - 16s 311ms/step - loss: 0.4545 - categorical_crossentropy: 0.4545 - recall: 0.8006 - precision: 0.8120 - val_loss: 1.3443 - val_categorical_crossentropy: 1.3443 - val_recall: 0.4974 - val_precision: 0.5335 - lr: 2.1870e-07\n",
            "Epoch 18/30\n",
            "50/50 [==============================] - 15s 304ms/step - loss: 0.4652 - categorical_crossentropy: 0.4652 - recall: 0.7898 - precision: 0.8068 - val_loss: 1.0546 - val_categorical_crossentropy: 1.0546 - val_recall: 0.5365 - val_precision: 0.5787 - lr: 2.1870e-07\n",
            "Epoch 19/30\n",
            "50/50 [==============================] - 15s 306ms/step - loss: 0.4546 - categorical_crossentropy: 0.4546 - recall: 0.7943 - precision: 0.8056 - val_loss: 0.8644 - val_categorical_crossentropy: 0.8644 - val_recall: 0.5938 - val_precision: 0.6369 - lr: 2.1870e-07\n",
            "Epoch 20/30\n",
            "50/50 [==============================] - 15s 305ms/step - loss: 0.4654 - categorical_crossentropy: 0.4654 - recall: 0.7822 - precision: 0.8000 - val_loss: 0.8202 - val_categorical_crossentropy: 0.8202 - val_recall: 0.6068 - val_precision: 0.6384 - lr: 2.1870e-07\n",
            "Epoch 21/30\n",
            "50/50 [==============================] - 24s 490ms/step - loss: 0.4491 - categorical_crossentropy: 0.4491 - recall: 0.8032 - precision: 0.8188 - val_loss: 0.7887 - val_categorical_crossentropy: 0.7887 - val_recall: 0.6354 - val_precision: 0.6612 - lr: 2.1870e-07\n",
            "Epoch 22/30\n",
            "50/50 [==============================] - 15s 304ms/step - loss: 0.4591 - categorical_crossentropy: 0.4591 - recall: 0.7898 - precision: 0.8068 - val_loss: 0.7412 - val_categorical_crossentropy: 0.7412 - val_recall: 0.6719 - val_precision: 0.6917 - lr: 2.1870e-07\n",
            "Epoch 23/30\n",
            "50/50 [==============================] - 15s 307ms/step - loss: 0.4534 - categorical_crossentropy: 0.4534 - recall: 0.7879 - precision: 0.8043 - val_loss: 0.7460 - val_categorical_crossentropy: 0.7460 - val_recall: 0.6641 - val_precision: 0.6746 - lr: 2.1870e-07\n",
            "Epoch 24/30\n",
            "50/50 [==============================] - ETA: 0s - loss: 0.4559 - categorical_crossentropy: 0.4559 - recall: 0.7911 - precision: 0.8081\n",
            "Epoch 24: ReduceLROnPlateau reducing learning rate to 6.561000276406048e-08.\n",
            "50/50 [==============================] - 15s 305ms/step - loss: 0.4559 - categorical_crossentropy: 0.4559 - recall: 0.7911 - precision: 0.8081 - val_loss: 0.7739 - val_categorical_crossentropy: 0.7739 - val_recall: 0.6458 - val_precision: 0.6721 - lr: 2.1870e-07\n",
            "Epoch 25/30\n",
            "50/50 [==============================] - 15s 306ms/step - loss: 0.4505 - categorical_crossentropy: 0.4505 - recall: 0.8000 - precision: 0.8151 - val_loss: 0.7636 - val_categorical_crossentropy: 0.7636 - val_recall: 0.6406 - val_precision: 0.6703 - lr: 6.5610e-08\n",
            "Epoch 26/30\n",
            "50/50 [==============================] - ETA: 0s - loss: 0.4794 - categorical_crossentropy: 0.4794 - recall: 0.7866 - precision: 0.8004\n",
            "Epoch 26: ReduceLROnPlateau reducing learning rate to 1.9683000829218145e-08.\n",
            "50/50 [==============================] - 18s 359ms/step - loss: 0.4794 - categorical_crossentropy: 0.4794 - recall: 0.7866 - precision: 0.8004 - val_loss: 0.7556 - val_categorical_crossentropy: 0.7556 - val_recall: 0.6693 - val_precision: 0.6745 - lr: 6.5610e-08\n",
            "Epoch 27/30\n",
            "50/50 [==============================] - 16s 308ms/step - loss: 0.4609 - categorical_crossentropy: 0.4609 - recall: 0.7943 - precision: 0.8118 - val_loss: 0.7633 - val_categorical_crossentropy: 0.7633 - val_recall: 0.6589 - val_precision: 0.6747 - lr: 1.9683e-08\n",
            "Epoch 28/30\n",
            "50/50 [==============================] - ETA: 0s - loss: 0.4563 - categorical_crossentropy: 0.4563 - recall: 0.7949 - precision: 0.8031\n",
            "Epoch 28: ReduceLROnPlateau reducing learning rate to 5.904900035602622e-09.\n",
            "50/50 [==============================] - 16s 311ms/step - loss: 0.4563 - categorical_crossentropy: 0.4563 - recall: 0.7949 - precision: 0.8031 - val_loss: 0.7517 - val_categorical_crossentropy: 0.7517 - val_recall: 0.6667 - val_precision: 0.6755 - lr: 1.9683e-08\n",
            "Epoch 29/30\n",
            "50/50 [==============================] - 15s 313ms/step - loss: 0.4538 - categorical_crossentropy: 0.4538 - recall: 0.7917 - precision: 0.8129 - val_loss: 0.7573 - val_categorical_crossentropy: 0.7573 - val_recall: 0.6771 - val_precision: 0.6952 - lr: 5.9049e-09\n",
            "Epoch 30/30\n",
            "50/50 [==============================] - ETA: 0s - loss: 0.4623 - categorical_crossentropy: 0.4623 - recall: 0.7892 - precision: 0.8056\n",
            "Epoch 30: ReduceLROnPlateau reducing learning rate to 1.7714700373261393e-09.\n",
            "50/50 [==============================] - 16s 307ms/step - loss: 0.4623 - categorical_crossentropy: 0.4623 - recall: 0.7892 - precision: 0.8056 - val_loss: 0.7557 - val_categorical_crossentropy: 0.7557 - val_recall: 0.6719 - val_precision: 0.6973 - lr: 5.9049e-09\n",
            "train time : 29 min 40 sec\n"
          ]
        }
      ],
      "source": [
        "itime = time.time()\n",
        "\n",
        "try:\n",
        "  history  = model.fit(\n",
        "            train_gen, \n",
        "            steps_per_epoch = train_gen.samples//batch_size, \n",
        "            epochs = epoch,\n",
        "            validation_data = validation_data, \n",
        "            validation_steps = validation_data.samples//batch_size,\n",
        "            #class_weight = class_weight,\n",
        "            callbacks = callbacks\n",
        "            )\n",
        "except Exception as e:\n",
        "  raise\n",
        "  print(e)\n",
        "\n",
        "train_time = (time.time() - itime)/60.\n",
        "print(f'train time : {time_convertion_string(train_time*60)}')"
      ]
    },
    {
      "cell_type": "code",
      "source": [
        "history.history.keys()"
      ],
      "metadata": {
        "colab": {
          "base_uri": "https://localhost:8080/"
        },
        "id": "57HG6b4sTt6m",
        "outputId": "36e8ff1e-bd1c-490b-cc48-fa94e3a186a0"
      },
      "execution_count": null,
      "outputs": [
        {
          "output_type": "execute_result",
          "data": {
            "text/plain": [
              "dict_keys(['loss', 'categorical_crossentropy', 'recall', 'precision', 'val_loss', 'val_categorical_crossentropy', 'val_recall', 'val_precision', 'lr'])"
            ]
          },
          "metadata": {},
          "execution_count": 23
        }
      ]
    },
    {
      "cell_type": "code",
      "execution_count": null,
      "metadata": {
        "id": "giDgBuC1iqb_",
        "colab": {
          "base_uri": "https://localhost:8080/",
          "height": 279
        },
        "outputId": "9fc6462a-23db-495c-e262-71b90c005465"
      },
      "outputs": [
        {
          "output_type": "display_data",
          "data": {
            "text/plain": [
              "<Figure size 432x288 with 1 Axes>"
            ],
            "image/png": "[encoded data removed]"
          },
          "metadata": {
            "needs_background": "light"
          }
        }
      ],
      "source": [
        "#Ploting Loss\n",
        "y_axis = plt.gca().yaxis\n",
        "y_axis.set_major_formatter(PercentFormatter(1))\n",
        "for key in history.history.keys():\n",
        "  if 'recall' in key:\n",
        "    recall_key = key\n",
        "  elif 'precision' in key:\n",
        "    precision_key = key\n",
        "plt.plot(history.history[recall_key], label = 'recall')\n",
        "plt.plot(history.history[precision_key], label = 'precision')\n",
        "plt.ylabel('R&P')\n",
        "plt.xlabel('Epoch')\n",
        "plt.grid(True)\n",
        "plt.legend(loc='upper right')\n",
        "plt.show()"
      ]
    },
    {
      "cell_type": "code",
      "source": [
        "#Ploting Loss\n",
        "y_axis = plt.gca().yaxis\n",
        "y_axis.set_major_formatter(PercentFormatter(1))\n",
        "plt.plot(history.history['loss'], label = 'loss')\n",
        "plt.plot(history.history['val_loss'], label = 'val_loss')\n",
        "plt.ylabel('Loss')\n",
        "plt.xlabel('Epoch')\n",
        "plt.grid(True)\n",
        "plt.legend(loc='upper right')\n",
        "plt.show()"
      ],
      "metadata": {
        "colab": {
          "base_uri": "https://localhost:8080/",
          "height": 279
        },
        "id": "HHyXDQXhBWRw",
        "outputId": "779dc84a-3903-4f50-8462-695facb2704a"
      },
      "execution_count": null,
      "outputs": [
        {
          "output_type": "display_data",
          "data": {
            "text/plain": [
              "<Figure size 432x288 with 1 Axes>"
            ],
            "image/png": "[encoded data removed]"
          },
          "metadata": {
            "needs_background": "light"
          }
        }
      ]
    },
    {
      "cell_type": "code",
      "execution_count": null,
      "metadata": {
        "id": "K5Eyk3U0n8Mr",
        "colab": {
          "base_uri": "https://localhost:8080/",
          "height": 279
        },
        "outputId": "2ef8696d-ad65-47c7-a7f6-f3135aee47b2"
      },
      "outputs": [
        {
          "output_type": "display_data",
          "data": {
            "text/plain": [
              "<Figure size 432x288 with 1 Axes>"
            ],
            "image/png": "[encoded data removed]"
          },
          "metadata": {
            "needs_background": "light"
          }
        }
      ],
      "source": [
        "#Ploting Important Results\n",
        "y_axis = plt.gca().yaxis\n",
        "y_axis.set_major_formatter(PercentFormatter(1))\n",
        "for key in history.history.keys():\n",
        "  if key not in ['loss','lr','val_loss']:\n",
        "    plt.plot(history.history[key], label = key)\n",
        "plt.xlabel('Epoch')\n",
        "plt.legend(loc='lower right')\n",
        "plt.grid(True)\n",
        "plt.show()"
      ]
    },
    {
      "cell_type": "code",
      "execution_count": null,
      "metadata": {
        "id": "Xcavt7BpZKLn",
        "colab": {
          "base_uri": "https://localhost:8080/",
          "height": 295
        },
        "outputId": "15c6fd1d-4d88-4295-e48b-4a87fceb9032"
      },
      "outputs": [
        {
          "output_type": "display_data",
          "data": {
            "text/plain": [
              "<Figure size 432x288 with 1 Axes>"
            ],
            "image/png": "[encoded data removed]"
          },
          "metadata": {
            "needs_background": "light"
          }
        }
      ],
      "source": [
        "#Ploting Learning Rate\n",
        "y_axis = plt.gca().yaxis\n",
        "y_axis.set_major_formatter(PercentFormatter(1))\n",
        "plt.plot(history.history['lr'])\n",
        "plt.title('Model Learning Rate')\n",
        "plt.ylabel('Learning Rate')\n",
        "plt.xlabel('Epoch')\n",
        "plt.grid(True)\n",
        "plt.show()"
      ]
    },
    {
      "cell_type": "code",
      "execution_count": null,
      "metadata": {
        "id": "duxAxDDHYOgn",
        "colab": {
          "base_uri": "https://localhost:8080/"
        },
        "outputId": "342c3bee-f55a-4715-c4fc-6635ab3df560"
      },
      "outputs": [
        {
          "output_type": "stream",
          "name": "stdout",
          "text": [
            "209/209 [==============================] - 163s 779ms/step - loss: 0.7270 - categorical_crossentropy: 0.7270 - recall: 0.6603 - precision: 0.6765\n"
          ]
        }
      ],
      "source": [
        "#Evaluating\n",
        "test_result = model.evaluate(tst_gen)"
      ]
    },
    {
      "cell_type": "markdown",
      "metadata": {
        "id": "PiG_7RyDYruu"
      },
      "source": [
        "##Post-processing"
      ]
    },
    {
      "cell_type": "code",
      "execution_count": null,
      "metadata": {
        "id": "ctuBYvKOnrwG",
        "colab": {
          "base_uri": "https://localhost:8080/"
        },
        "outputId": "fbd91662-514b-4a24-afad-65793de2cd3b"
      },
      "outputs": [
        {
          "output_type": "stream",
          "name": "stdout",
          "text": [
            "model name =  FaceScore3BUN_231121742_acc72_rec66_prec67.h5\n"
          ]
        }
      ],
      "source": [
        "#Renaming Model\n",
        "locT = time.localtime()\n",
        "model_name = 'FaceScore%d%s_%d%d%d%d%d_acc%d_rec%d_prec%d.h5'%(classes,\n",
        "                                model_characteristic,\n",
        "                                locT.tm_year - 2000,\n",
        "                                locT.tm_mon,\n",
        "                                locT.tm_mday,\n",
        "                                locT.tm_hour + 8,\n",
        "                                locT.tm_min,\n",
        "                                test_result[1]*100, \n",
        "                                test_result[2]*100, \n",
        "                                test_result[3]*100)\n",
        "\n",
        "if os.path.exists(model_dir + '/best_model.h5'):\n",
        "  os.rename(model_dir + '/best_model.h5', os.path.join(model_dir, model_name))\n",
        "  print('model name = ',model_name)\n",
        "else:\n",
        "  print('Best Model not found!')"
      ]
    },
    {
      "cell_type": "code",
      "execution_count": null,
      "metadata": {
        "id": "ZNb6SEcT5UoK",
        "colab": {
          "base_uri": "https://localhost:8080/"
        },
        "outputId": "2d79c37c-52eb-48f4-ebb0-8436733568f8"
      },
      "outputs": [
        {
          "output_type": "stream",
          "name": "stdout",
          "text": [
            "1/1 [==============================] - 3s 3s/step\n",
            "1/1 [==============================] - 0s 34ms/step\n",
            "1/1 [==============================] - 0s 36ms/step\n",
            "1/1 [==============================] - 0s 32ms/step\n",
            "1/1 [==============================] - 0s 35ms/step\n",
            "1/1 [==============================] - 0s 34ms/step\n",
            "1/1 [==============================] - 0s 34ms/step\n",
            "1/1 [==============================] - 0s 35ms/step\n",
            "1/1 [==============================] - 0s 34ms/step\n",
            "1/1 [==============================] - 0s 34ms/step\n",
            "1/1 [==============================] - 0s 33ms/step\n",
            "1/1 [==============================] - 0s 33ms/step\n",
            "1/1 [==============================] - 0s 33ms/step\n",
            "1/1 [==============================] - 0s 33ms/step\n",
            "1/1 [==============================] - 0s 35ms/step\n",
            "1/1 [==============================] - 0s 47ms/step\n",
            "1/1 [==============================] - 0s 33ms/step\n",
            "1/1 [==============================] - 0s 33ms/step\n",
            "1/1 [==============================] - 0s 34ms/step\n",
            "1/1 [==============================] - 0s 34ms/step\n",
            "1/1 [==============================] - 0s 34ms/step\n",
            "1/1 [==============================] - 0s 40ms/step\n",
            "1/1 [==============================] - 0s 33ms/step\n",
            "1/1 [==============================] - 0s 33ms/step\n",
            "1/1 [==============================] - 0s 33ms/step\n",
            "1/1 [==============================] - 0s 34ms/step\n",
            "1/1 [==============================] - 0s 34ms/step\n",
            "1/1 [==============================] - 0s 36ms/step\n",
            "1/1 [==============================] - 0s 33ms/step\n",
            "1/1 [==============================] - 0s 33ms/step\n",
            "1/1 [==============================] - 0s 34ms/step\n",
            "1/1 [==============================] - 0s 34ms/step\n",
            "1/1 [==============================] - 0s 38ms/step\n",
            "1/1 [==============================] - 0s 35ms/step\n",
            "1/1 [==============================] - 0s 35ms/step\n",
            "1/1 [==============================] - 0s 35ms/step\n",
            "1/1 [==============================] - 0s 36ms/step\n",
            "1/1 [==============================] - 0s 32ms/step\n",
            "1/1 [==============================] - 0s 34ms/step\n",
            "1/1 [==============================] - 0s 34ms/step\n",
            "1/1 [==============================] - 0s 33ms/step\n",
            "1/1 [==============================] - 0s 34ms/step\n",
            "1/1 [==============================] - 0s 36ms/step\n",
            "1/1 [==============================] - 0s 39ms/step\n",
            "1/1 [==============================] - 0s 34ms/step\n",
            "1/1 [==============================] - 0s 33ms/step\n",
            "1/1 [==============================] - 0s 33ms/step\n",
            "1/1 [==============================] - 0s 40ms/step\n",
            "1/1 [==============================] - 0s 34ms/step\n",
            "1/1 [==============================] - 0s 36ms/step\n",
            "1/1 [==============================] - 0s 34ms/step\n",
            "1/1 [==============================] - 0s 36ms/step\n",
            "1/1 [==============================] - 0s 33ms/step\n",
            "1/1 [==============================] - 0s 34ms/step\n",
            "1/1 [==============================] - 0s 34ms/step\n",
            "1/1 [==============================] - 0s 34ms/step\n",
            "1/1 [==============================] - 0s 40ms/step\n",
            "1/1 [==============================] - 0s 32ms/step\n",
            "1/1 [==============================] - 0s 33ms/step\n",
            "1/1 [==============================] - 0s 33ms/step\n",
            "1/1 [==============================] - 0s 35ms/step\n",
            "1/1 [==============================] - 0s 36ms/step\n",
            "1/1 [==============================] - 0s 36ms/step\n",
            "1/1 [==============================] - 0s 35ms/step\n",
            "1/1 [==============================] - 0s 33ms/step\n",
            "1/1 [==============================] - 0s 33ms/step\n",
            "1/1 [==============================] - 0s 33ms/step\n",
            "1/1 [==============================] - 0s 32ms/step\n",
            "1/1 [==============================] - 0s 33ms/step\n",
            "1/1 [==============================] - 0s 37ms/step\n",
            "1/1 [==============================] - 0s 34ms/step\n",
            "1/1 [==============================] - 0s 33ms/step\n",
            "1/1 [==============================] - 0s 34ms/step\n",
            "1/1 [==============================] - 0s 33ms/step\n",
            "1/1 [==============================] - 0s 33ms/step\n",
            "1/1 [==============================] - 0s 34ms/step\n",
            "1/1 [==============================] - 0s 35ms/step\n",
            "1/1 [==============================] - 0s 32ms/step\n",
            "1/1 [==============================] - 0s 33ms/step\n",
            "1/1 [==============================] - 0s 39ms/step\n",
            "1/1 [==============================] - 0s 41ms/step\n",
            "1/1 [==============================] - 0s 35ms/step\n",
            "1/1 [==============================] - 0s 32ms/step\n",
            "1/1 [==============================] - 0s 35ms/step\n",
            "1/1 [==============================] - 0s 37ms/step\n",
            "1/1 [==============================] - 0s 38ms/step\n",
            "1/1 [==============================] - 0s 35ms/step\n",
            "1/1 [==============================] - 0s 33ms/step\n",
            "1/1 [==============================] - 0s 32ms/step\n",
            "1/1 [==============================] - 0s 32ms/step\n",
            "1/1 [==============================] - 0s 35ms/step\n",
            "1/1 [==============================] - 0s 33ms/step\n",
            "1/1 [==============================] - 0s 42ms/step\n",
            "1/1 [==============================] - 0s 32ms/step\n",
            "1/1 [==============================] - 0s 33ms/step\n",
            "1/1 [==============================] - 0s 32ms/step\n",
            "1/1 [==============================] - 0s 33ms/step\n",
            "1/1 [==============================] - 0s 33ms/step\n",
            "1/1 [==============================] - 0s 33ms/step\n",
            "1/1 [==============================] - 0s 34ms/step\n",
            "1/1 [==============================] - 0s 35ms/step\n",
            "1/1 [==============================] - 0s 33ms/step\n",
            "1/1 [==============================] - 0s 33ms/step\n",
            "1/1 [==============================] - 0s 48ms/step\n",
            "1/1 [==============================] - 0s 37ms/step\n",
            "1/1 [==============================] - 0s 33ms/step\n",
            "1/1 [==============================] - 0s 34ms/step\n",
            "1/1 [==============================] - 0s 35ms/step\n",
            "1/1 [==============================] - 0s 34ms/step\n",
            "1/1 [==============================] - 0s 34ms/step\n",
            "1/1 [==============================] - 0s 34ms/step\n",
            "1/1 [==============================] - 0s 35ms/step\n",
            "1/1 [==============================] - 0s 34ms/step\n",
            "1/1 [==============================] - 0s 32ms/step\n",
            "1/1 [==============================] - 0s 39ms/step\n",
            "1/1 [==============================] - 0s 33ms/step\n",
            "1/1 [==============================] - 0s 32ms/step\n",
            "1/1 [==============================] - 0s 32ms/step\n",
            "1/1 [==============================] - 0s 33ms/step\n",
            "1/1 [==============================] - 0s 34ms/step\n",
            "1/1 [==============================] - 0s 40ms/step\n",
            "1/1 [==============================] - 0s 35ms/step\n",
            "1/1 [==============================] - 0s 36ms/step\n",
            "1/1 [==============================] - 0s 42ms/step\n",
            "1/1 [==============================] - 0s 35ms/step\n",
            "1/1 [==============================] - 0s 40ms/step\n",
            "1/1 [==============================] - 0s 34ms/step\n",
            "1/1 [==============================] - 0s 35ms/step\n",
            "1/1 [==============================] - 0s 34ms/step\n",
            "1/1 [==============================] - 0s 34ms/step\n",
            "1/1 [==============================] - 0s 35ms/step\n",
            "1/1 [==============================] - 0s 34ms/step\n",
            "1/1 [==============================] - 0s 34ms/step\n",
            "1/1 [==============================] - 0s 37ms/step\n",
            "1/1 [==============================] - 0s 34ms/step\n",
            "1/1 [==============================] - 0s 35ms/step\n",
            "1/1 [==============================] - 0s 35ms/step\n",
            "1/1 [==============================] - 0s 33ms/step\n",
            "1/1 [==============================] - 0s 33ms/step\n",
            "1/1 [==============================] - 0s 33ms/step\n",
            "1/1 [==============================] - 0s 36ms/step\n",
            "1/1 [==============================] - 0s 36ms/step\n",
            "1/1 [==============================] - 0s 34ms/step\n",
            "1/1 [==============================] - 0s 33ms/step\n",
            "1/1 [==============================] - 0s 34ms/step\n",
            "1/1 [==============================] - 0s 37ms/step\n",
            "1/1 [==============================] - 0s 34ms/step\n",
            "1/1 [==============================] - 0s 32ms/step\n",
            "1/1 [==============================] - 0s 34ms/step\n",
            "1/1 [==============================] - 0s 35ms/step\n",
            "1/1 [==============================] - 0s 34ms/step\n",
            "1/1 [==============================] - 0s 34ms/step\n",
            "1/1 [==============================] - 0s 33ms/step\n",
            "1/1 [==============================] - 0s 35ms/step\n",
            "1/1 [==============================] - 0s 32ms/step\n",
            "1/1 [==============================] - 0s 34ms/step\n",
            "1/1 [==============================] - 0s 42ms/step\n",
            "1/1 [==============================] - 0s 33ms/step\n",
            "1/1 [==============================] - 0s 32ms/step\n",
            "1/1 [==============================] - 0s 34ms/step\n",
            "1/1 [==============================] - 0s 38ms/step\n",
            "1/1 [==============================] - 0s 33ms/step\n",
            "1/1 [==============================] - 0s 35ms/step\n",
            "1/1 [==============================] - 0s 34ms/step\n",
            "1/1 [==============================] - 0s 35ms/step\n",
            "1/1 [==============================] - 0s 33ms/step\n",
            "1/1 [==============================] - 0s 35ms/step\n",
            "1/1 [==============================] - 0s 44ms/step\n",
            "1/1 [==============================] - 0s 33ms/step\n",
            "1/1 [==============================] - 0s 33ms/step\n",
            "1/1 [==============================] - 0s 35ms/step\n",
            "1/1 [==============================] - 0s 33ms/step\n",
            "1/1 [==============================] - 0s 36ms/step\n",
            "1/1 [==============================] - 0s 33ms/step\n",
            "1/1 [==============================] - 0s 33ms/step\n",
            "1/1 [==============================] - 0s 39ms/step\n",
            "1/1 [==============================] - 0s 33ms/step\n",
            "1/1 [==============================] - 0s 37ms/step\n",
            "1/1 [==============================] - 0s 36ms/step\n",
            "1/1 [==============================] - 0s 35ms/step\n",
            "1/1 [==============================] - 0s 37ms/step\n",
            "1/1 [==============================] - 0s 35ms/step\n",
            "1/1 [==============================] - 0s 35ms/step\n",
            "1/1 [==============================] - 0s 33ms/step\n",
            "1/1 [==============================] - 0s 32ms/step\n",
            "1/1 [==============================] - 0s 32ms/step\n",
            "1/1 [==============================] - 0s 33ms/step\n",
            "1/1 [==============================] - 0s 33ms/step\n",
            "1/1 [==============================] - 0s 33ms/step\n",
            "1/1 [==============================] - 0s 40ms/step\n",
            "1/1 [==============================] - 0s 33ms/step\n",
            "1/1 [==============================] - 0s 32ms/step\n",
            "1/1 [==============================] - 0s 34ms/step\n",
            "1/1 [==============================] - 0s 37ms/step\n",
            "1/1 [==============================] - 0s 35ms/step\n",
            "1/1 [==============================] - 0s 33ms/step\n",
            "1/1 [==============================] - 0s 37ms/step\n",
            "1/1 [==============================] - 0s 39ms/step\n",
            "1/1 [==============================] - 0s 34ms/step\n",
            "1/1 [==============================] - 0s 41ms/step\n",
            "1/1 [==============================] - 0s 35ms/step\n",
            "1/1 [==============================] - 0s 33ms/step\n",
            "1/1 [==============================] - 0s 33ms/step\n",
            "1/1 [==============================] - 0s 36ms/step\n",
            "1/1 [==============================] - 0s 48ms/step\n",
            "1/1 [==============================] - 0s 34ms/step\n",
            "1/1 [==============================] - 0s 35ms/step\n",
            "1/1 [==============================] - 0s 34ms/step\n",
            "1/1 [==============================] - 0s 37ms/step\n",
            "1/1 [==============================] - 0s 34ms/step\n",
            "1/1 [==============================] - 0s 35ms/step\n",
            "1/1 [==============================] - 0s 38ms/step\n",
            "1/1 [==============================] - 0s 34ms/step\n",
            "1/1 [==============================] - 0s 35ms/step\n",
            "1/1 [==============================] - 0s 41ms/step\n",
            "1/1 [==============================] - 0s 38ms/step\n",
            "1/1 [==============================] - 0s 36ms/step\n",
            "1/1 [==============================] - 0s 36ms/step\n",
            "1/1 [==============================] - 0s 38ms/step\n",
            "1/1 [==============================] - 0s 41ms/step\n",
            "1/1 [==============================] - 0s 36ms/step\n",
            "1/1 [==============================] - 0s 35ms/step\n",
            "1/1 [==============================] - 0s 46ms/step\n",
            "1/1 [==============================] - 0s 37ms/step\n",
            "1/1 [==============================] - 0s 35ms/step\n",
            "1/1 [==============================] - 0s 35ms/step\n",
            "1/1 [==============================] - 0s 34ms/step\n",
            "1/1 [==============================] - 0s 33ms/step\n",
            "1/1 [==============================] - 0s 33ms/step\n",
            "1/1 [==============================] - 0s 34ms/step\n",
            "1/1 [==============================] - 0s 38ms/step\n",
            "1/1 [==============================] - 0s 34ms/step\n",
            "1/1 [==============================] - 0s 33ms/step\n",
            "1/1 [==============================] - 0s 40ms/step\n",
            "1/1 [==============================] - 0s 35ms/step\n",
            "1/1 [==============================] - 0s 34ms/step\n",
            "1/1 [==============================] - 0s 37ms/step\n",
            "1/1 [==============================] - 0s 37ms/step\n",
            "1/1 [==============================] - 0s 32ms/step\n",
            "1/1 [==============================] - 0s 33ms/step\n",
            "1/1 [==============================] - 0s 33ms/step\n",
            "1/1 [==============================] - 0s 36ms/step\n",
            "1/1 [==============================] - 0s 33ms/step\n",
            "1/1 [==============================] - 0s 33ms/step\n",
            "1/1 [==============================] - 0s 34ms/step\n",
            "1/1 [==============================] - 0s 37ms/step\n",
            "1/1 [==============================] - 0s 34ms/step\n",
            "1/1 [==============================] - 0s 37ms/step\n",
            "1/1 [==============================] - 0s 33ms/step\n",
            "1/1 [==============================] - 0s 32ms/step\n",
            "1/1 [==============================] - 0s 33ms/step\n",
            "1/1 [==============================] - 0s 36ms/step\n",
            "1/1 [==============================] - 0s 33ms/step\n",
            "1/1 [==============================] - 0s 32ms/step\n",
            "1/1 [==============================] - 0s 39ms/step\n",
            "1/1 [==============================] - 0s 35ms/step\n",
            "1/1 [==============================] - 0s 33ms/step\n",
            "1/1 [==============================] - 0s 37ms/step\n",
            "1/1 [==============================] - 0s 34ms/step\n",
            "1/1 [==============================] - 0s 33ms/step\n",
            "1/1 [==============================] - 0s 34ms/step\n",
            "1/1 [==============================] - 0s 41ms/step\n",
            "1/1 [==============================] - 0s 34ms/step\n",
            "1/1 [==============================] - 0s 34ms/step\n",
            "1/1 [==============================] - 0s 36ms/step\n",
            "1/1 [==============================] - 0s 35ms/step\n",
            "1/1 [==============================] - 0s 33ms/step\n",
            "1/1 [==============================] - 0s 33ms/step\n",
            "1/1 [==============================] - 0s 34ms/step\n",
            "1/1 [==============================] - 0s 35ms/step\n",
            "1/1 [==============================] - 0s 33ms/step\n",
            "1/1 [==============================] - 0s 35ms/step\n",
            "1/1 [==============================] - 0s 37ms/step\n",
            "1/1 [==============================] - 0s 38ms/step\n",
            "1/1 [==============================] - 0s 34ms/step\n",
            "1/1 [==============================] - 0s 35ms/step\n",
            "1/1 [==============================] - 0s 40ms/step\n",
            "1/1 [==============================] - 0s 34ms/step\n",
            "1/1 [==============================] - 0s 34ms/step\n",
            "1/1 [==============================] - 0s 34ms/step\n",
            "1/1 [==============================] - 0s 35ms/step\n",
            "1/1 [==============================] - 0s 37ms/step\n",
            "1/1 [==============================] - 0s 33ms/step\n",
            "1/1 [==============================] - 0s 35ms/step\n",
            "1/1 [==============================] - 0s 33ms/step\n",
            "1/1 [==============================] - 0s 33ms/step\n",
            "1/1 [==============================] - 0s 33ms/step\n",
            "1/1 [==============================] - 0s 42ms/step\n",
            "1/1 [==============================] - 0s 34ms/step\n",
            "1/1 [==============================] - 0s 34ms/step\n",
            "1/1 [==============================] - 0s 33ms/step\n",
            "1/1 [==============================] - 0s 35ms/step\n",
            "1/1 [==============================] - 0s 42ms/step\n",
            "1/1 [==============================] - 0s 40ms/step\n",
            "1/1 [==============================] - 0s 37ms/step\n",
            "1/1 [==============================] - 0s 39ms/step\n",
            "1/1 [==============================] - 0s 46ms/step\n",
            "1/1 [==============================] - 0s 38ms/step\n",
            "1/1 [==============================] - 0s 48ms/step\n",
            "1/1 [==============================] - 0s 36ms/step\n",
            "1/1 [==============================] - 0s 35ms/step\n",
            "1/1 [==============================] - 0s 37ms/step\n",
            "1/1 [==============================] - 0s 37ms/step\n",
            "1/1 [==============================] - 0s 36ms/step\n",
            "1/1 [==============================] - 0s 36ms/step\n",
            "1/1 [==============================] - 0s 36ms/step\n",
            "1/1 [==============================] - 0s 34ms/step\n",
            "1/1 [==============================] - 0s 36ms/step\n",
            "1/1 [==============================] - 0s 32ms/step\n",
            "1/1 [==============================] - 0s 33ms/step\n",
            "1/1 [==============================] - 0s 41ms/step\n",
            "1/1 [==============================] - 0s 37ms/step\n",
            "1/1 [==============================] - 0s 35ms/step\n",
            "1/1 [==============================] - 0s 35ms/step\n",
            "1/1 [==============================] - 0s 34ms/step\n",
            "1/1 [==============================] - 0s 35ms/step\n",
            "1/1 [==============================] - 0s 36ms/step\n",
            "1/1 [==============================] - 0s 33ms/step\n",
            "1/1 [==============================] - 0s 36ms/step\n",
            "1/1 [==============================] - 0s 32ms/step\n",
            "1/1 [==============================] - 0s 34ms/step\n",
            "1/1 [==============================] - 0s 36ms/step\n",
            "1/1 [==============================] - 0s 47ms/step\n",
            "1/1 [==============================] - 0s 36ms/step\n",
            "1/1 [==============================] - 0s 34ms/step\n",
            "1/1 [==============================] - 0s 34ms/step\n",
            "1/1 [==============================] - 0s 34ms/step\n",
            "1/1 [==============================] - 0s 36ms/step\n",
            "1/1 [==============================] - 0s 33ms/step\n",
            "1/1 [==============================] - 0s 33ms/step\n",
            "1/1 [==============================] - 0s 41ms/step\n",
            "1/1 [==============================] - 0s 34ms/step\n",
            "1/1 [==============================] - 0s 33ms/step\n",
            "1/1 [==============================] - 0s 32ms/step\n",
            "1/1 [==============================] - 0s 42ms/step\n",
            "1/1 [==============================] - 0s 36ms/step\n",
            "1/1 [==============================] - 0s 32ms/step\n",
            "1/1 [==============================] - 0s 33ms/step\n",
            "1/1 [==============================] - 0s 34ms/step\n",
            "1/1 [==============================] - 0s 36ms/step\n",
            "1/1 [==============================] - 0s 35ms/step\n",
            "1/1 [==============================] - 0s 32ms/step\n",
            "1/1 [==============================] - 0s 36ms/step\n",
            "1/1 [==============================] - 0s 36ms/step\n",
            "1/1 [==============================] - 0s 38ms/step\n",
            "1/1 [==============================] - 0s 34ms/step\n",
            "1/1 [==============================] - 0s 34ms/step\n",
            "1/1 [==============================] - 0s 34ms/step\n",
            "1/1 [==============================] - 0s 42ms/step\n",
            "1/1 [==============================] - 0s 35ms/step\n",
            "1/1 [==============================] - 0s 33ms/step\n",
            "1/1 [==============================] - 0s 35ms/step\n",
            "1/1 [==============================] - 0s 37ms/step\n",
            "1/1 [==============================] - 0s 35ms/step\n",
            "1/1 [==============================] - 0s 38ms/step\n",
            "1/1 [==============================] - 0s 34ms/step\n",
            "1/1 [==============================] - 0s 33ms/step\n",
            "1/1 [==============================] - 0s 33ms/step\n",
            "1/1 [==============================] - 0s 36ms/step\n",
            "1/1 [==============================] - 0s 36ms/step\n",
            "1/1 [==============================] - 0s 36ms/step\n",
            "1/1 [==============================] - 0s 35ms/step\n",
            "1/1 [==============================] - 0s 38ms/step\n",
            "1/1 [==============================] - 0s 36ms/step\n",
            "1/1 [==============================] - 0s 35ms/step\n",
            "1/1 [==============================] - 0s 34ms/step\n",
            "1/1 [==============================] - 0s 35ms/step\n",
            "1/1 [==============================] - 0s 41ms/step\n",
            "1/1 [==============================] - 0s 35ms/step\n",
            "1/1 [==============================] - 0s 43ms/step\n",
            "1/1 [==============================] - 0s 34ms/step\n",
            "1/1 [==============================] - 0s 34ms/step\n",
            "1/1 [==============================] - 0s 36ms/step\n",
            "1/1 [==============================] - 0s 36ms/step\n",
            "1/1 [==============================] - 0s 34ms/step\n",
            "1/1 [==============================] - 0s 35ms/step\n",
            "1/1 [==============================] - 0s 36ms/step\n",
            "1/1 [==============================] - 0s 36ms/step\n",
            "1/1 [==============================] - 0s 39ms/step\n",
            "1/1 [==============================] - 0s 33ms/step\n",
            "1/1 [==============================] - 0s 35ms/step\n",
            "1/1 [==============================] - 0s 41ms/step\n",
            "1/1 [==============================] - 0s 33ms/step\n",
            "1/1 [==============================] - 0s 36ms/step\n",
            "1/1 [==============================] - 0s 33ms/step\n",
            "1/1 [==============================] - 0s 34ms/step\n",
            "1/1 [==============================] - 0s 34ms/step\n",
            "1/1 [==============================] - 0s 35ms/step\n",
            "1/1 [==============================] - 0s 37ms/step\n",
            "1/1 [==============================] - 0s 33ms/step\n",
            "1/1 [==============================] - 0s 32ms/step\n",
            "1/1 [==============================] - 0s 34ms/step\n",
            "1/1 [==============================] - 0s 36ms/step\n",
            "1/1 [==============================] - 0s 42ms/step\n",
            "1/1 [==============================] - 0s 33ms/step\n",
            "1/1 [==============================] - 0s 34ms/step\n",
            "1/1 [==============================] - 0s 34ms/step\n",
            "1/1 [==============================] - 0s 34ms/step\n",
            "1/1 [==============================] - 0s 36ms/step\n",
            "1/1 [==============================] - 0s 36ms/step\n",
            "1/1 [==============================] - 0s 36ms/step\n",
            "1/1 [==============================] - 0s 33ms/step\n",
            "1/1 [==============================] - 0s 34ms/step\n",
            "1/1 [==============================] - 0s 35ms/step\n",
            "1/1 [==============================] - 0s 34ms/step\n",
            "1/1 [==============================] - 0s 33ms/step\n",
            "1/1 [==============================] - 0s 33ms/step\n",
            "1/1 [==============================] - 0s 33ms/step\n",
            "1/1 [==============================] - 0s 33ms/step\n",
            "1/1 [==============================] - 0s 33ms/step\n",
            "1/1 [==============================] - 0s 33ms/step\n",
            "1/1 [==============================] - 0s 32ms/step\n",
            "1/1 [==============================] - 0s 34ms/step\n",
            "1/1 [==============================] - 0s 33ms/step\n",
            "1/1 [==============================] - 0s 44ms/step\n",
            "1/1 [==============================] - 0s 35ms/step\n",
            "1/1 [==============================] - 0s 34ms/step\n",
            "1/1 [==============================] - 0s 34ms/step\n"
          ]
        },
        {
          "output_type": "execute_result",
          "data": {
            "text/plain": [
              "array([[60,  7,  0],\n",
              "       [19, 35, 18],\n",
              "       [ 2, 20, 48]])"
            ]
          },
          "metadata": {},
          "execution_count": 31
        }
      ],
      "source": [
        "#Model Checking\n",
        "model = tf.keras.models.load_model(os.path.join(model_dir, model_name))\n",
        "conf_matrix, prob = conf_matrix_and_prob(model, tst_dir, tst_gen, threshold)\n",
        "conf_matrix[:,:]"
      ]
    },
    {
      "cell_type": "code",
      "execution_count": null,
      "metadata": {
        "id": "YaXLoWCPXppU",
        "colab": {
          "base_uri": "https://localhost:8080/",
          "height": 402
        },
        "outputId": "2c796f8f-4550-44df-b601-294e5513f8a6"
      },
      "outputs": [
        {
          "output_type": "stream",
          "name": "stdout",
          "text": [
            "Confusion matrix, without normalization\n",
            "Accuracy: 0.789\n",
            "Recall: 0.689\n",
            "Precision: 0.678\n",
            "F1 score: 0.680\n"
          ]
        },
        {
          "output_type": "display_data",
          "data": {
            "text/plain": [
              "<Figure size 432x288 with 2 Axes>"
            ],
            "image/png": "[encoded data removed]"
          },
          "metadata": {
            "needs_background": "light"
          }
        }
      ],
      "source": [
        "#Ploting Confusion Matrix\n",
        "labels = [i[0] for i in list(tst_gen.class_indices.items())]\n",
        "PlotConfusionMatrix(conf_matrix, labels, title = \"Test Confusion Matrix of Face Score Images\")"
      ]
    },
    {
      "cell_type": "code",
      "execution_count": null,
      "metadata": {
        "id": "YJybdx-1js_S"
      },
      "outputs": [],
      "source": [
        "#Result Reporting    \n",
        "LineNotify(tok, f'Model trained. (Best Model = {model_name})\\nby {tester}.')"
      ]
    },
    {
      "cell_type": "code",
      "execution_count": null,
      "metadata": {
        "id": "-nV8-Cq8SsiB"
      },
      "outputs": [],
      "source": [
        "#Key-in Data Setting\n",
        "data = {'recall' : test_result[2]*100, 'precision' : test_result[3]*100, 'accuracy' : test_result[1]*100,\n",
        "      'model name' : m0del_name, 'rotation' : rotation_range, 'w_shift' : width_shift_range, 'h_shift' : height_shift_range,\n",
        "      'vertical' : 1 if vertical_flip else 0, 'horizon' : 1 if horizontal_flip else 0, 'val_split' : validation_split,\n",
        "      'earlyStop' : 1 if early_stopping in callbacks else 0, 'rlr': 1 if rlr in callbacks else 0, \n",
        "      'rlr_factor' : rlr_factor, 'input_shape[1]' : input_shape1, 'es_min_delta' : es_min_delta,\n",
        "      'epoch' : epoch, 'batch size' : batch_size, 'Tester' : tester, 'rlr_min_delta' : rlr_min_delta,\n",
        "      'zoom' : zoom_range, 'mckp_monitor' : mckp_monitor,\t'rlr_monitor' : rlr_monitor,\t\n",
        "      'earlyStop_monitor' : es_monitor, 'Date' : f'{locT.tm_year}.{locT.tm_mon}.{locT.tm_mday}',\n",
        "      'weight' : str(class_weight), '.h5'  : model_name, 'PS' : PS, 'Train Time (min)' : train_time\n",
        "    }"
      ]
    },
    {
      "cell_type": "code",
      "execution_count": null,
      "metadata": {
        "id": "ORYbzKaW5hot"
      },
      "outputs": [],
      "source": [
        "#Data Filling\n",
        "whole_sheet = sheet.get_all_values()\n",
        "for key, value in data.items():\n",
        "  keyin_col = sheet.find(key).col\n",
        "  if not keyin_col:\n",
        "    print('Can\\'t find ',key)\n",
        "  else:\n",
        "    sheet.update_cell(len(whole_sheet)+1, keyin_col, value)"
      ]
    }
  ],
  "metadata": {
    "accelerator": "GPU",
    "colab": {
      "provenance": [],
      "include_colab_link": true
    },
    "gpuClass": "standard",
    "kernelspec": {
      "display_name": "Python 3",
      "name": "python3"
    },
    "language_info": {
      "name": "python"
    }
  },
  "nbformat": 4,
  "nbformat_minor": 0
}